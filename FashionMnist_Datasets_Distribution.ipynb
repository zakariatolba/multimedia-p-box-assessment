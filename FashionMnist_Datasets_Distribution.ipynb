{
  "nbformat": 4,
  "nbformat_minor": 0,
  "metadata": {
    "colab": {
      "name": "FashionMnist Datasets Distribution.ipynb",
      "private_outputs": true,
      "provenance": [],
      "authorship_tag": "ABX9TyPakwbe/R6oXWE2UKEFuent",
      "include_colab_link": true
    },
    "kernelspec": {
      "name": "python3",
      "display_name": "Python 3"
    },
    "language_info": {
      "name": "python"
    },
    "accelerator": "GPU"
  },
  "cells": [
    {
      "cell_type": "markdown",
      "metadata": {
        "id": "view-in-github",
        "colab_type": "text"
      },
      "source": [
        "<a href=\"https://colab.research.google.com/github/zakariatolba/multimedia-p-box-assessment/blob/main/FashionMnist_Datasets_Distribution.ipynb\" target=\"_parent\"><img src=\"https://colab.research.google.com/assets/colab-badge.svg\" alt=\"Open In Colab\"/></a>"
      ]
    },
    {
      "cell_type": "code",
      "execution_count": null,
      "metadata": {
        "id": "KLCY2FrKLQF-"
      },
      "outputs": [],
      "source": [
        "import tensorflow\n",
        "print(tensorflow.__version__)\n",
        "\n",
        "import tensorflow as tf\n",
        "import tensorflow as tf\n",
        "from tensorflow import keras\n",
        "from tensorflow.keras import layers\n",
        "import numpy as np\n",
        "import os\n",
        "import tensorflow as tf\n",
        "from tensorflow import keras\n",
        "\n",
        "import time\n",
        "from numpy import zeros,array\n",
        "import sys\n",
        "import pandas as pd\n",
        "import matplotlib.pyplot as plt\n",
        "import time\n",
        "%matplotlib inline\n",
        "import cv2 as cv\n",
        "import numpy as np\n",
        "import matplotlib.pyplot as plt\n",
        "import cv2\n",
        "from google.colab import drive\n",
        "import sys\n",
        "import cv2 as cv\n",
        "import numpy as np\n",
        "import matplotlib.pyplot as plt\n",
        "import cv2\n",
        "import csv\n",
        "import matplotlib.pyplot as plt\n",
        "from google.colab import drive\n",
        "\n",
        "drive.mount('/content/drive')\n",
        "print(drive.mount)\n",
        "path1=\"/content/drive/My Drive/P-Box-Black-box-assasement/Datasets/Fashion Mnist/\"\n",
        "path2=\"/content/drive/My Drive/P-Box-Black-box-assasement/Datasets/Mnist/\"\n",
        "from tensorflow.keras.models import Sequential\n",
        "from tensorflow.keras.layers import Dense, Conv2D, Dropout, Flatten, MaxPooling2D\n",
        "\n",
        "\n",
        "\n",
        "import matplotlib.pyplot as plt\n",
        "import numpy as np\n",
        "\n",
        "x_train = np.loadtxt(path1+'FashionMnist.txt')  \n",
        "\n",
        "x_train = x_train.reshape((60000,28,28))\n",
        "\n",
        "\n",
        "\n",
        "import numpy as np\n",
        "import cv2\n",
        "\n",
        "import numpy as np\n",
        "import pandas as pd\n",
        "import cv2 as cv \n",
        "from google.colab.patches import cv2_imshow # for image display\n",
        "from skimage import io\n",
        "from PIL import Image \n",
        "import matplotlib.pylab as plt\n",
        "\n",
        "#SideDim = 10\n",
        "\n",
        "for i in range(25):\n",
        " mag = x_train[i]\n",
        " mag = mag.astype(np.uint8)\n",
        " plt.figure(figsize=(5,5))\n",
        " plt.imshow(mag,'gray')\n",
        " gray=mag\n",
        " hist = cv.calcHist([gray], [0], None, [256], [0, 256])\n",
        " plt.figure(figsize=(5,5))\n",
        " plt.title(\"Grayscale Fashion Mnist sample\"+str(i)+\" Histogram\")\n",
        " plt.xlabel(\"Bins\")\n",
        " plt.ylabel(\"# of Pixels\")\n",
        " plt.plot(hist)\n",
        " plt.xlim([0, 256])\n",
        " plt.show()\n",
        "\n",
        "for i in range(25):\n",
        "  mag1 = x_train[i]\n",
        "  mag1 = mag1.astype(np.uint8)\n",
        "  plt.figure(figsize=(5,5))\n",
        "  plt.imshow(mag1,'gray')\n",
        "  gray=mag1"
      ]
    }
  ]
}