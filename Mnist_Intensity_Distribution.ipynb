{
  "nbformat": 4,
  "nbformat_minor": 0,
  "metadata": {
    "colab": {
      "name": "Mnist Intensity Distribution.ipynb",
      "provenance": [],
      "collapsed_sections": [],
      "authorship_tag": "ABX9TyPNr0DjagU6Lqcrtu5xgx7z"
    },
    "kernelspec": {
      "name": "python3",
      "display_name": "Python 3"
    },
    "language_info": {
      "name": "python"
    }
  },
  "cells": [
    {
      "cell_type": "code",
      "execution_count": null,
      "metadata": {
        "colab": {
          "base_uri": "https://localhost:8080/",
          "height": 1000
        },
        "id": "aSOx1sTTrmX0",
        "outputId": "bb30789e-7c3b-49d9-fee0-f21a6b974c14"
      },
      "outputs": [],
      "source": [
        "import tensorflow\n",
        "print(tensorflow.__version__)\n",
        "\n",
        "import tensorflow as tf\n",
        "from tensorflow import keras\n",
        "from tensorflow.keras import layers\n",
        "import numpy as np\n",
        "import os\n",
        "import time\n",
        "from numpy import zeros,array\n",
        "import sys\n",
        "import pandas as pd\n",
        "import matplotlib.pyplot as plt\n",
        "import time\n",
        "%matplotlib inline\n",
        "import cv2 as cv\n",
        "import cv2\n",
        "from google.colab import drive\n",
        "import sys\n",
        "import csv\n",
        "drive.mount('/content/drive')\n",
        "print(drive.mount)\n",
        "path1=\"/content/drive/My Drive/P-Box-Black-box-assasement/Datasets/Fashion Mnist/\"\n",
        "path2=\"/content/drive/My Drive/P-Box-Black-box-assasement/Datasets/Mnist/\"\n",
        "from tensorflow.keras.models import Sequential\n",
        "from tensorflow.keras.layers import Dense, Conv2D, Dropout, Flatten, MaxPooling2D\n",
        "\n",
        "x_train = np.loadtxt(path2+'Mnist.txt')  \n",
        "\n",
        "x_train = x_train.reshape((60000,28,28))\n",
        "\n",
        "\n",
        "\n",
        "from google.colab.patches import cv2_imshow # for image display\n",
        "from skimage import io\n",
        "from PIL import Image \n",
        "import matplotlib.pylab as plt\n",
        "\n",
        "for i in range(100):\n",
        " mag = x_train[i]\n",
        " mag = mag.astype(np.uint8)\n",
        " plt.figure(figsize=(5,5))\n",
        " plt.imshow(mag,'gray')\n",
        " gray=mag\n",
        " hist = cv.calcHist([gray], [0], None, [256], [0, 256])\n",
        " plt.figure(figsize=(5,5))\n",
        " plt.title(\"Grayscale Fashion Mnist sample\"+str(i)+\" Histogram\")\n",
        " plt.xlabel(\"Bins\")\n",
        " plt.ylabel(\"# of Pixels\")\n",
        " plt.plot(hist)\n",
        " plt.xlim([0, 256])\n",
        " plt.show()\n",
        "\n",
        "for i in range(100):\n",
        "  mag1 = x_train[i]\n",
        "  mag1 = mag1.astype(np.uint8)\n",
        "  plt.figure(figsize=(5,5))\n",
        "  plt.imshow(mag1,'gray')\n",
        "  gray=mag1"
      ]
    }
  ]
}